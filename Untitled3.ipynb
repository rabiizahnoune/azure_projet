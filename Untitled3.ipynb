{
  "nbformat": 4,
  "nbformat_minor": 0,
  "metadata": {
    "colab": {
      "provenance": [],
      "authorship_tag": "ABX9TyM6Eh8bguCHFSW+tu2lGWgB",
      "include_colab_link": true
    },
    "kernelspec": {
      "name": "python3",
      "display_name": "Python 3"
    },
    "language_info": {
      "name": "python"
    }
  },
  "cells": [
    {
      "cell_type": "markdown",
      "metadata": {
        "id": "view-in-github",
        "colab_type": "text"
      },
      "source": [
        "<a href=\"https://colab.research.google.com/github/rabiizahnoune/azure_projet/blob/main/Untitled3.ipynb\" target=\"_parent\"><img src=\"https://colab.research.google.com/assets/colab-badge.svg\" alt=\"Open In Colab\"/></a>"
      ]
    },
    {
      "cell_type": "code",
      "execution_count": 134,
      "metadata": {
        "id": "u2fvwr_koIGT"
      },
      "outputs": [],
      "source": [
        "from pyspark.sql import SparkSession\n",
        "\n",
        "# Créer une session Spark\n",
        "spark = SparkSession.builder.appName(\"ColabPySpark\").getOrCreate()\n"
      ]
    },
    {
      "cell_type": "code",
      "source": [
        "df = spark.read.parquet(\"/content/green_tripdata_2022-01.parquet\")\n"
      ],
      "metadata": {
        "id": "iqIQMOOkoxQ9"
      },
      "execution_count": 135,
      "outputs": []
    },
    {
      "cell_type": "code",
      "source": [
        "df.show()"
      ],
      "metadata": {
        "colab": {
          "base_uri": "https://localhost:8080/"
        },
        "id": "EnPzHu9Ao32u",
        "outputId": "d5ee97e4-04ec-4bce-fe2c-7ff18d4df916"
      },
      "execution_count": 136,
      "outputs": [
        {
          "output_type": "stream",
          "name": "stdout",
          "text": [
            "+--------+--------------------+---------------------+------------------+----------+------------+------------+---------------+-------------+-----------+-----+-------+----------+------------+---------+---------------------+------------+------------+---------+--------------------+\n",
            "|VendorID|lpep_pickup_datetime|lpep_dropoff_datetime|store_and_fwd_flag|RatecodeID|PULocationID|DOLocationID|passenger_count|trip_distance|fare_amount|extra|mta_tax|tip_amount|tolls_amount|ehail_fee|improvement_surcharge|total_amount|payment_type|trip_type|congestion_surcharge|\n",
            "+--------+--------------------+---------------------+------------------+----------+------------+------------+---------------+-------------+-----------+-----+-------+----------+------------+---------+---------------------+------------+------------+---------+--------------------+\n",
            "|       2| 2022-01-01 00:14:21|  2022-01-01 00:15:33|                 N|       1.0|          42|          42|            1.0|         0.44|        3.5|  0.5|    0.5|       0.0|         0.0|     NULL|                  0.3|         4.8|         2.0|      1.0|                 0.0|\n",
            "|       1| 2022-01-01 00:20:55|  2022-01-01 00:29:38|                 N|       1.0|         116|          41|            1.0|          2.1|        9.5|  0.5|    0.5|       0.0|         0.0|     NULL|                  0.3|        10.8|         2.0|      1.0|                 0.0|\n",
            "|       1| 2022-01-01 00:57:02|  2022-01-01 01:13:14|                 N|       1.0|          41|         140|            1.0|          3.7|       14.5| 3.25|    0.5|       4.6|         0.0|     NULL|                  0.3|       23.15|         1.0|      1.0|                2.75|\n",
            "|       2| 2022-01-01 00:07:42|  2022-01-01 00:15:57|                 N|       1.0|         181|         181|            1.0|         1.69|        8.0|  0.5|    0.5|       0.0|         0.0|     NULL|                  0.3|         9.3|         2.0|      1.0|                 0.0|\n",
            "|       2| 2022-01-01 00:07:50|  2022-01-01 00:28:52|                 N|       1.0|          33|         170|            1.0|         6.26|       22.0|  0.5|    0.5|      5.21|         0.0|     NULL|                  0.3|       31.26|         1.0|      1.0|                2.75|\n",
            "|       1| 2022-01-01 00:47:57|  2022-01-01 00:54:09|                 N|       1.0|         150|         210|            1.0|          1.3|        7.0|  0.5|    0.5|       0.0|         0.0|     NULL|                  0.3|         8.3|         2.0|      1.0|                 0.0|\n",
            "|       2| 2022-01-01 00:13:38|  2022-01-01 00:33:50|                 N|       1.0|          66|          67|            1.0|         6.47|       22.5|  0.5|    0.5|       0.0|         0.0|     NULL|                  0.3|        23.8|         2.0|      1.0|                 0.0|\n",
            "|       2| 2022-01-01 00:43:00|  2022-01-01 00:49:20|                 N|       1.0|          40|         195|            1.0|         1.15|        6.0|  0.5|    0.5|       0.0|         0.0|     NULL|                  0.3|         7.3|         2.0|      1.0|                 0.0|\n",
            "|       2| 2022-01-01 00:41:04|  2022-01-01 00:47:04|                 N|       1.0|         112|          80|            1.0|          1.3|        6.0|  0.5|    0.5|       0.0|         0.0|     NULL|                  0.3|         7.3|         2.0|      1.0|                 0.0|\n",
            "|       2| 2022-01-01 00:51:07|  2022-01-01 01:09:31|                 N|       1.0|         256|         186|            1.0|         4.75|       17.0|  0.5|    0.5|      4.21|         0.0|     NULL|                  0.3|       25.26|         1.0|      1.0|                2.75|\n",
            "|       2| 2021-12-31 23:44:03|  2021-12-31 23:57:25|                 N|       1.0|          75|           4|            1.0|         6.03|       18.5|  0.5|    0.5|       1.5|         0.0|     NULL|                  0.3|       24.05|         1.0|      1.0|                2.75|\n",
            "|       2| 2022-01-01 00:06:59|  2022-01-01 00:21:24|                 N|       1.0|          41|         116|            1.0|         2.82|       12.5|  0.5|    0.5|       0.0|         0.0|     NULL|                  0.3|        13.8|         2.0|      1.0|                 0.0|\n",
            "|       2| 2022-01-01 00:47:35|  2022-01-01 00:50:20|                 N|       1.0|          75|          74|            1.0|          0.7|        4.5|  0.5|    0.5|      1.45|         0.0|     NULL|                  0.3|        7.25|         1.0|      1.0|                 0.0|\n",
            "|       2| 2022-01-01 00:10:25|  2022-01-01 23:10:29|                 N|       1.0|          74|         260|            1.0|         5.48|       17.5|  0.5|    0.5|       0.0|        6.55|     NULL|                  0.3|       25.35|         2.0|      1.0|                 0.0|\n",
            "|       2| 2022-01-01 00:52:27|  2022-01-01 01:25:16|                 N|       1.0|          74|         231|            1.0|         7.54|       26.5|  0.5|    0.5|      6.11|         0.0|     NULL|                  0.3|       36.66|         1.0|      1.0|                2.75|\n",
            "|       1| 2022-01-01 00:47:31|  2022-01-01 00:49:51|                 N|       1.0|          74|          42|            1.0|          0.9|        4.5|  0.5|    0.5|       0.0|         0.0|     NULL|                  0.3|         5.8|         3.0|      1.0|                 0.0|\n",
            "|       1| 2022-01-01 00:59:10|  2022-01-01 01:21:02|                 N|       1.0|          41|          94|            1.0|          6.2|       21.5|  0.5|    0.5|       0.0|         0.0|     NULL|                  0.3|        22.8|         1.0|      1.0|                 0.0|\n",
            "|       2| 2022-01-01 00:12:00|  2022-01-01 00:26:26|                 N|       5.0|         213|         174|            1.0|         5.57|       20.0|  0.0|    0.0|       0.0|         0.0|     NULL|                  0.3|        20.3|         2.0|      2.0|                 0.0|\n",
            "|       2| 2022-01-01 00:47:15|  2022-01-01 00:53:07|                 N|       1.0|          51|         185|            1.0|         1.87|        7.0|  0.5|    0.5|       0.0|         0.0|     NULL|                  0.3|         8.3|         2.0|      1.0|                 0.0|\n",
            "|       2| 2022-01-01 00:54:40|  2022-01-01 01:17:02|                 N|       5.0|         185|         119|            1.0|          6.6|       25.0|  0.0|    0.0|       0.0|         0.0|     NULL|                  0.3|        25.3|         2.0|      2.0|                 0.0|\n",
            "+--------+--------------------+---------------------+------------------+----------+------------+------------+---------------+-------------+-----------+-----+-------+----------+------------+---------+---------------------+------------+------------+---------+--------------------+\n",
            "only showing top 20 rows\n",
            "\n"
          ]
        }
      ]
    },
    {
      "cell_type": "code",
      "source": [
        "from pyspark.sql.functions import col\n"
      ],
      "metadata": {
        "id": "rnMtbJvNo51P"
      },
      "execution_count": 137,
      "outputs": []
    },
    {
      "cell_type": "code",
      "source": [
        "df.printSchema()"
      ],
      "metadata": {
        "colab": {
          "base_uri": "https://localhost:8080/"
        },
        "id": "M82WShCCqWKj",
        "outputId": "07047d4d-b27a-4614-934b-20b4499c77f5"
      },
      "execution_count": 138,
      "outputs": [
        {
          "output_type": "stream",
          "name": "stdout",
          "text": [
            "root\n",
            " |-- VendorID: long (nullable = true)\n",
            " |-- lpep_pickup_datetime: timestamp_ntz (nullable = true)\n",
            " |-- lpep_dropoff_datetime: timestamp_ntz (nullable = true)\n",
            " |-- store_and_fwd_flag: string (nullable = true)\n",
            " |-- RatecodeID: double (nullable = true)\n",
            " |-- PULocationID: long (nullable = true)\n",
            " |-- DOLocationID: long (nullable = true)\n",
            " |-- passenger_count: double (nullable = true)\n",
            " |-- trip_distance: double (nullable = true)\n",
            " |-- fare_amount: double (nullable = true)\n",
            " |-- extra: double (nullable = true)\n",
            " |-- mta_tax: double (nullable = true)\n",
            " |-- tip_amount: double (nullable = true)\n",
            " |-- tolls_amount: double (nullable = true)\n",
            " |-- ehail_fee: integer (nullable = true)\n",
            " |-- improvement_surcharge: double (nullable = true)\n",
            " |-- total_amount: double (nullable = true)\n",
            " |-- payment_type: double (nullable = true)\n",
            " |-- trip_type: double (nullable = true)\n",
            " |-- congestion_surcharge: double (nullable = true)\n",
            "\n"
          ]
        }
      ]
    },
    {
      "cell_type": "code",
      "source": [
        "#changer le typde de colone date\n",
        "df = df.withColumn(\"lpep_pickup_datetime\", col(\"lpep_pickup_datetime\").cast(\"timestamp\"))\n"
      ],
      "metadata": {
        "id": "1tMRajHrprBK"
      },
      "execution_count": 139,
      "outputs": []
    },
    {
      "cell_type": "code",
      "source": [
        "from pyspark.sql.functions import min, max\n",
        "\n",
        "# Récupérer les dates min et max\n",
        "min_max_dates = df.select(\n",
        "    min(\"lpep_pickup_datetime\").alias(\"min_date\"),\n",
        "    max(\"lpep_pickup_datetime\").alias(\"max_date\")\n",
        ").collect()\n",
        "\n",
        "min_date = min_max_dates[0][\"min_date\"]\n",
        "max_date = min_max_dates[0][\"max_date\"]\n",
        "\n",
        "print(f\"📅 Plage de dates : {min_date} ➝ {max_date}\")\n"
      ],
      "metadata": {
        "colab": {
          "base_uri": "https://localhost:8080/"
        },
        "id": "R_smw45QsDvj",
        "outputId": "0b079ea5-762d-4136-b6f1-d8ee9d01b455"
      },
      "execution_count": 140,
      "outputs": [
        {
          "output_type": "stream",
          "name": "stdout",
          "text": [
            "📅 Plage de dates : 2009-01-01 00:34:01 ➝ 2022-01-31 23:57:37\n"
          ]
        }
      ]
    },
    {
      "cell_type": "code",
      "source": [
        "from pyspark.sql.functions import year\n",
        "\n",
        "# Filtrer les lignes où l'année est différente de 2022\n",
        "df_not_2022 = df.filter(year(\"lpep_pickup_datetime\") != 2022)\n",
        "\n",
        "# Compter ces lignes\n",
        "count_not_2022 = df_not_2022.count()\n",
        "\n",
        "print(f\"📊 Nombre de lignes où la date n'est pas en 2022 : {count_not_2022}\")\n"
      ],
      "metadata": {
        "colab": {
          "base_uri": "https://localhost:8080/"
        },
        "id": "P3lok4vksKG0",
        "outputId": "0dc1e358-4e36-4222-e27b-1578a24a2f9f"
      },
      "execution_count": 141,
      "outputs": [
        {
          "output_type": "stream",
          "name": "stdout",
          "text": [
            "📊 Nombre de lignes où la date n'est pas en 2022 : 4\n"
          ]
        }
      ]
    },
    {
      "cell_type": "code",
      "source": [
        "df.count()"
      ],
      "metadata": {
        "colab": {
          "base_uri": "https://localhost:8080/"
        },
        "id": "wMuqQyXE4K1Z",
        "outputId": "d54ea7fd-b605-4478-96d6-26885c402db1"
      },
      "execution_count": 142,
      "outputs": [
        {
          "output_type": "execute_result",
          "data": {
            "text/plain": [
              "62495"
            ]
          },
          "metadata": {},
          "execution_count": 142
        }
      ]
    },
    {
      "cell_type": "code",
      "source": [
        "from pyspark.sql.functions import month\n",
        "\n",
        "# Filtrer les lignes où le mois  est différente de 01\n",
        "df_not_1 = df.filter(month(\"lpep_pickup_datetime\") != 1)\n",
        "\n",
        "# Compter ces lignes\n",
        "count_not_1 = df_not_1.count()\n",
        "\n",
        "print(f\"📊 Nombre de lignes où la date n'est pas en 1 : {count_not_1}\")\n"
      ],
      "metadata": {
        "colab": {
          "base_uri": "https://localhost:8080/"
        },
        "id": "twMY44cN35Dc",
        "outputId": "9d812cb4-81a1-4501-e474-514d944829b2"
      },
      "execution_count": 143,
      "outputs": [
        {
          "output_type": "stream",
          "name": "stdout",
          "text": [
            "📊 Nombre de lignes où la date n'est pas en 1 : 3\n"
          ]
        }
      ]
    },
    {
      "cell_type": "code",
      "source": [
        "from pyspark.sql import SparkSession\n",
        "from pyspark.sql.functions import (\n",
        "    col, year, month, dayofmonth, to_date, lit, when, lpad, concat, count\n",
        ")\n",
        "\n",
        "def replace_with_mode(df, date_column):\n",
        "    \"\"\"\n",
        "    Remplace l'année et le mois par les valeurs les plus fréquentes (mode).\n",
        "\n",
        "    :param df: DataFrame PySpark contenant une colonne de type date\n",
        "    :param date_column: Nom de la colonne de type date\n",
        "    :return: DataFrame avec les années et mois remplacés par leurs modes respectifs\n",
        "    \"\"\"\n",
        "\n",
        "    # Calculer le mode de l'année (year)\n",
        "    mode_year = df.groupBy(year(col(date_column)).alias(\"year\")) \\\n",
        "                  .count() \\\n",
        "                  .orderBy(col(\"count\").desc()) \\\n",
        "                  .first()[\"year\"]\n",
        "\n",
        "    # Calculer le mode du mois (month)\n",
        "    mode_month = df.groupBy(month(col(date_column)).alias(\"month\")) \\\n",
        "                   .count() \\\n",
        "                   .orderBy(col(\"count\").desc()) \\\n",
        "                   .first()[\"month\"]\n",
        "\n",
        "    print(f\"Mode Year: {mode_year}, Mode Month: {mode_month}\")\n",
        "\n",
        "    # Remplacer l'année et le mois par leur mode respectif\n",
        "    df = df.withColumn(\n",
        "        date_column,\n",
        "        to_date(\n",
        "            concat(\n",
        "                lit(f\"{mode_year}-\"),\n",
        "                lpad(when(month(col(date_column)) != mode_month, lit(mode_month))\n",
        "                     .otherwise(month(col(date_column))).cast(\"string\"), 2, \"0\"),\n",
        "                lit(\"-\"),\n",
        "                lpad(dayofmonth(col(date_column)).cast(\"string\"), 2, \"0\")\n",
        "            ),\n",
        "            \"yyyy-MM-dd\"\n",
        "        )\n",
        "    )\n",
        "\n",
        "    return df"
      ],
      "metadata": {
        "id": "5dHwWE-g3u5m"
      },
      "execution_count": 144,
      "outputs": []
    },
    {
      "cell_type": "code",
      "source": [
        "df=replace_with_mode(df,'lpep_pickup_datetime')"
      ],
      "metadata": {
        "colab": {
          "base_uri": "https://localhost:8080/"
        },
        "id": "f_dGQG6J46-f",
        "outputId": "3467bff8-2830-4930-e4aa-7189b7693078"
      },
      "execution_count": 145,
      "outputs": [
        {
          "output_type": "stream",
          "name": "stdout",
          "text": [
            "Mode Year: 2022, Mode Month: 1\n"
          ]
        }
      ]
    },
    {
      "cell_type": "code",
      "source": [
        "#checker outliers de date = 2019\n",
        "from pyspark.sql.functions import year\n",
        "\n",
        "# Filtrer les lignes où l'année est différente de 2022\n",
        "df_not_2022 = df.filter(year(\"lpep_pickup_datetime\") != 2022)\n",
        "\n",
        "# Compter ces lignes\n",
        "count_not_2022 = df_not_2022.count()\n",
        "\n",
        "print(f\"📊 Nombre de lignes où la date n'est pas en 2022 : {count_not_2022}\")\n",
        "from pyspark.sql.functions import month\n",
        "\n",
        "# Filtrer les lignes où le mois  est différente de 01\n",
        "df_not_1 = df.filter(month(\"lpep_pickup_datetime\") != 1)\n",
        "\n",
        "# Compter ces lignes\n",
        "count_not_1 = df_not_1.count()\n",
        "\n",
        "print(f\"📊 Nombre de lignes où la date n'est pas en 1 : {count_not_1}\")\n"
      ],
      "metadata": {
        "colab": {
          "base_uri": "https://localhost:8080/"
        },
        "id": "dDiFwUv0XR9W",
        "outputId": "2b579559-85fe-4303-d716-4fe8f3a067e0"
      },
      "execution_count": 146,
      "outputs": [
        {
          "output_type": "stream",
          "name": "stdout",
          "text": [
            "📊 Nombre de lignes où la date n'est pas en 2022 : 0\n",
            "📊 Nombre de lignes où la date n'est pas en 1 : 0\n"
          ]
        }
      ]
    },
    {
      "cell_type": "markdown",
      "source": [
        "***creation d un table dim_Date_depart***"
      ],
      "metadata": {
        "id": "CNPkMR1caeYa"
      }
    },
    {
      "cell_type": "code",
      "source": [
        "# Générer l'ID unique basé sur la date et l'heure\n",
        "\n",
        "from pyspark.sql.functions import col, year, month, dayofmonth, hour, minute, second, concat, lpad, lit\n",
        "df = df.withColumn(\n",
        "    \"idda_te\",\n",
        "    concat(\n",
        "        year(col(\"lpep_pickup_datetime\")),\n",
        "        lpad(month(col(\"lpep_pickup_datetime\")).cast(\"string\"), 2, \"0\"),\n",
        "        lpad(dayofmonth(col(\"lpep_pickup_datetime\")).cast(\"string\"), 2, \"0\"),\n",
        "        lpad(hour(col(\"lpep_pickup_datetime\")).cast(\"string\"), 2, \"0\"),\n",
        "        lpad(minute(col(\"lpep_pickup_datetime\")).cast(\"string\"), 2, \"0\"),\n",
        "        lpad(second(col(\"lpep_pickup_datetime\")).cast(\"string\"), 2, \"0\")\n",
        "    )\n",
        ")\n",
        "\n"
      ],
      "metadata": {
        "id": "lZTyiV0TYPB2"
      },
      "execution_count": 147,
      "outputs": []
    },
    {
      "cell_type": "code",
      "source": [
        "def create_dim_date_depart(df):\n",
        "  df_dim_date_depart = df.select(\n",
        "    \"idda_te\",  # Identifiant unique\n",
        "    year(col(\"lpep_pickup_datetime\")).alias(\"year\"),\n",
        "    month(col(\"lpep_pickup_datetime\")).alias(\"month\"),\n",
        "    dayofmonth(col(\"lpep_pickup_datetime\")).alias(\"day\"),\n",
        "    hour(col(\"lpep_pickup_datetime\")).alias(\"hour\"),\n",
        "    minute(col(\"lpep_pickup_datetime\")).alias(\"minute\"),\n",
        "    second(col(\"lpep_pickup_datetime\")).alias(\"second\"),\n",
        "    \"lpep_pickup_datetime\"  # Ajouter la colonne de date-heure originale\n",
        ")\n",
        "  return df_dim_date_depart\n"
      ],
      "metadata": {
        "id": "aRUo9oqj8cS-"
      },
      "execution_count": 148,
      "outputs": []
    },
    {
      "cell_type": "code",
      "source": [
        "# Construire la table de dimension date (dim_date)\n",
        "df_dim_date_depart = create_dim_date_depart(df)\n",
        "\n",
        "# Afficher les premières lignes pour vérifier\n",
        "df_dim_date_depart.show(10, truncate=False)"
      ],
      "metadata": {
        "colab": {
          "base_uri": "https://localhost:8080/"
        },
        "id": "iyBs0nnManwC",
        "outputId": "eb8b0c3d-d7cf-4462-8a37-5447b7ed9dfe"
      },
      "execution_count": 149,
      "outputs": [
        {
          "output_type": "stream",
          "name": "stdout",
          "text": [
            "+--------------+----+-----+---+----+------+------+--------------------+\n",
            "|idda_te       |year|month|day|hour|minute|second|lpep_pickup_datetime|\n",
            "+--------------+----+-----+---+----+------+------+--------------------+\n",
            "|20220101000000|2022|1    |1  |0   |0     |0     |2022-01-01          |\n",
            "|20220101000000|2022|1    |1  |0   |0     |0     |2022-01-01          |\n",
            "|20220101000000|2022|1    |1  |0   |0     |0     |2022-01-01          |\n",
            "|20220101000000|2022|1    |1  |0   |0     |0     |2022-01-01          |\n",
            "|20220101000000|2022|1    |1  |0   |0     |0     |2022-01-01          |\n",
            "|20220101000000|2022|1    |1  |0   |0     |0     |2022-01-01          |\n",
            "|20220101000000|2022|1    |1  |0   |0     |0     |2022-01-01          |\n",
            "|20220101000000|2022|1    |1  |0   |0     |0     |2022-01-01          |\n",
            "|20220101000000|2022|1    |1  |0   |0     |0     |2022-01-01          |\n",
            "|20220101000000|2022|1    |1  |0   |0     |0     |2022-01-01          |\n",
            "+--------------+----+-----+---+----+------+------+--------------------+\n",
            "only showing top 10 rows\n",
            "\n"
          ]
        }
      ]
    },
    {
      "cell_type": "markdown",
      "source": [
        "# ***creation de table de dimension dim_date_finale***"
      ],
      "metadata": {
        "id": "w6Ln0dGkt23p"
      }
    },
    {
      "cell_type": "code",
      "source": [
        "#checker outliers de date = 2019\n",
        "from pyspark.sql.functions import year\n",
        "\n",
        "# Filtrer les lignes où l'année est différente de 2022\n",
        "df_not_2022 = df.filter(year(\"lpep_dropoff_datetime\") != 2022)\n",
        "\n",
        "# Compter ces lignes\n",
        "count_not_2022 = df_not_2022.count()\n",
        "\n",
        "print(f\"📊 Nombre de lignes où la date n'est pas en 2022 : {count_not_2022}\")\n",
        "from pyspark.sql.functions import month\n",
        "\n",
        "# Filtrer les lignes où le mois  est différente de 01\n",
        "df_not_1 = df.filter(month(\"lpep_dropoff_datetime\") != 1)\n",
        "\n",
        "# Compter ces lignes\n",
        "count_not_1 = df_not_1.count()\n",
        "\n",
        "print(f\"📊 Nombre de lignes où la date n'est pas en 1 : {count_not_1}\")\n"
      ],
      "metadata": {
        "colab": {
          "base_uri": "https://localhost:8080/"
        },
        "id": "UtL-AROFuL4c",
        "outputId": "e6226594-7e53-4ded-c485-bb23fa9ed4b5"
      },
      "execution_count": 150,
      "outputs": [
        {
          "output_type": "stream",
          "name": "stdout",
          "text": [
            "📊 Nombre de lignes où la date n'est pas en 2022 : 3\n",
            "📊 Nombre de lignes où la date n'est pas en 1 : 15\n"
          ]
        }
      ]
    },
    {
      "cell_type": "code",
      "source": [
        "df = replace_with_mode(df,'lpep_dropoff_datetime')"
      ],
      "metadata": {
        "colab": {
          "base_uri": "https://localhost:8080/"
        },
        "id": "IvIdbNyp6q1N",
        "outputId": "be6e1b90-fa11-46bb-9620-cc66b0cd54c5"
      },
      "execution_count": 151,
      "outputs": [
        {
          "output_type": "stream",
          "name": "stdout",
          "text": [
            "Mode Year: 2022, Mode Month: 1\n"
          ]
        }
      ]
    },
    {
      "cell_type": "code",
      "source": [
        "# Générer l'ID unique basé sur la date et l'heure\n",
        "\n",
        "from pyspark.sql.functions import col, year, month, dayofmonth, hour, minute, second, concat, lpad, lit\n",
        "df = df.withColumn(\n",
        "    \"id_date_finale\",\n",
        "    concat(\n",
        "        year(col(\"lpep_dropoff_datetime\")),\n",
        "        lpad(month(col(\"lpep_dropoff_datetime\")).cast(\"string\"), 2, \"0\"),\n",
        "        lpad(dayofmonth(col(\"lpep_dropoff_datetime\")).cast(\"string\"), 2, \"0\"),\n",
        "        lpad(hour(col(\"lpep_dropoff_datetime\")).cast(\"string\"), 2, \"0\"),\n",
        "        lpad(minute(col(\"lpep_dropoff_datetime\")).cast(\"string\"), 2, \"0\"),\n",
        "        lpad(second(col(\"lpep_dropoff_datetime\")).cast(\"string\"), 2, \"0\")\n",
        "    )\n",
        ")\n",
        "\n"
      ],
      "metadata": {
        "id": "1qp1FVJ-p5Bs"
      },
      "execution_count": 152,
      "outputs": []
    },
    {
      "cell_type": "code",
      "source": [
        "def create_dim_date_finale(df):\n",
        "  df_dim_date_finale = df.select(\n",
        "    \"idda_te\",  # Identifiant unique\n",
        "    year(col(\"lpep_pickup_datetime\")).alias(\"year\"),\n",
        "    month(col(\"lpep_pickup_datetime\")).alias(\"month\"),\n",
        "    dayofmonth(col(\"lpep_pickup_datetime\")).alias(\"day\"),\n",
        "    hour(col(\"lpep_pickup_datetime\")).alias(\"hour\"),\n",
        "    minute(col(\"lpep_pickup_datetime\")).alias(\"minute\"),\n",
        "    second(col(\"lpep_pickup_datetime\")).alias(\"second\"),\n",
        "    \"lpep_pickup_datetime\"  # Ajouter la colonne de date-heure originale\n",
        ")\n",
        "  return df_dim_date_finale\n",
        "\n",
        ""
      ],
      "metadata": {
        "id": "x6ZUSgIB8IG-"
      },
      "execution_count": 153,
      "outputs": []
    },
    {
      "cell_type": "code",
      "source": [
        "# Construire la table de dimension date (dim_date)\n",
        "df_dim_date_finale = create_dim_date_finale(df)\n",
        "\n",
        "# Afficher les premières lignes pour vérifier\n",
        "df_dim_date_finale.show(10, truncate=False)"
      ],
      "metadata": {
        "colab": {
          "base_uri": "https://localhost:8080/"
        },
        "id": "5RTdtAQ-umcy",
        "outputId": "e27e19cd-7ed8-4af4-f380-6ae0587799de"
      },
      "execution_count": 154,
      "outputs": [
        {
          "output_type": "stream",
          "name": "stdout",
          "text": [
            "+--------------+----+-----+---+----+------+------+--------------------+\n",
            "|idda_te       |year|month|day|hour|minute|second|lpep_pickup_datetime|\n",
            "+--------------+----+-----+---+----+------+------+--------------------+\n",
            "|20220101000000|2022|1    |1  |0   |0     |0     |2022-01-01          |\n",
            "|20220101000000|2022|1    |1  |0   |0     |0     |2022-01-01          |\n",
            "|20220101000000|2022|1    |1  |0   |0     |0     |2022-01-01          |\n",
            "|20220101000000|2022|1    |1  |0   |0     |0     |2022-01-01          |\n",
            "|20220101000000|2022|1    |1  |0   |0     |0     |2022-01-01          |\n",
            "|20220101000000|2022|1    |1  |0   |0     |0     |2022-01-01          |\n",
            "|20220101000000|2022|1    |1  |0   |0     |0     |2022-01-01          |\n",
            "|20220101000000|2022|1    |1  |0   |0     |0     |2022-01-01          |\n",
            "|20220101000000|2022|1    |1  |0   |0     |0     |2022-01-01          |\n",
            "|20220101000000|2022|1    |1  |0   |0     |0     |2022-01-01          |\n",
            "+--------------+----+-----+---+----+------+------+--------------------+\n",
            "only showing top 10 rows\n",
            "\n"
          ]
        }
      ]
    },
    {
      "cell_type": "markdown",
      "source": [
        "# ***une fonction pour voire le nombre des valeurs null***"
      ],
      "metadata": {
        "id": "ZK2wJMk_sY5a"
      }
    },
    {
      "cell_type": "code",
      "source": [
        "from pyspark.sql.functions import col, isnan, when, count\n",
        "\n",
        "def calculer_valeur_null(df,x):\n",
        "    # Vérifier si la colonne existe dans le DataFrame\n",
        "    if x not in df.columns:\n",
        "        print(f\"La colonne '{x}' n'existe pas dans le DataFrame.\")\n",
        "        return\n",
        "\n",
        "    # Calculer le nombre de valeurs nulles ou NaN\n",
        "    df.select(count(when(isnan(x) | col(x).isNull(), 1)).alias(x)).show()"
      ],
      "metadata": {
        "id": "jNipsfiFsOfH"
      },
      "execution_count": 155,
      "outputs": []
    },
    {
      "cell_type": "markdown",
      "source": [
        "# ***table Dim_payment***"
      ],
      "metadata": {
        "id": "N0i5x8o7oRuD"
      }
    },
    {
      "cell_type": "code",
      "source": [
        "calculer_valeur_null(df,'payment_type')"
      ],
      "metadata": {
        "colab": {
          "base_uri": "https://localhost:8080/"
        },
        "id": "woTVrekztxYG",
        "outputId": "7ea9838b-ed9e-4bb2-8032-86f6adeb8763"
      },
      "execution_count": 156,
      "outputs": [
        {
          "output_type": "stream",
          "name": "stdout",
          "text": [
            "+------------+\n",
            "|payment_type|\n",
            "+------------+\n",
            "|        6295|\n",
            "+------------+\n",
            "\n"
          ]
        }
      ]
    },
    {
      "cell_type": "code",
      "source": [
        "mode_value = df.groupBy('payment_type').count().orderBy('count', ascending=False).first()['payment_type']\n",
        "print(f\"La valeur la plus fréquente de 'payment_type' est : {mode_value}\")"
      ],
      "metadata": {
        "colab": {
          "base_uri": "https://localhost:8080/"
        },
        "id": "Q6R2tQgmt5C2",
        "outputId": "64933aa5-7544-459d-f174-c5b73b82e1d4"
      },
      "execution_count": 157,
      "outputs": [
        {
          "output_type": "stream",
          "name": "stdout",
          "text": [
            "La valeur la plus fréquente de 'payment_type' est : 1.0\n"
          ]
        }
      ]
    },
    {
      "cell_type": "code",
      "source": [
        "df = df.fillna({'payment_type': mode_value})"
      ],
      "metadata": {
        "id": "oq3jYNbnylov"
      },
      "execution_count": 158,
      "outputs": []
    },
    {
      "cell_type": "code",
      "source": [
        "df.select(\"payment_type\").distinct().show()\n"
      ],
      "metadata": {
        "colab": {
          "base_uri": "https://localhost:8080/"
        },
        "id": "zSUm2KfxsuC0",
        "outputId": "58ec631d-576f-4f6a-a6f0-5f2b10705b70"
      },
      "execution_count": 159,
      "outputs": [
        {
          "output_type": "stream",
          "name": "stdout",
          "text": [
            "+------------+\n",
            "|payment_type|\n",
            "+------------+\n",
            "|         1.0|\n",
            "|         4.0|\n",
            "|         3.0|\n",
            "|         2.0|\n",
            "|         5.0|\n",
            "+------------+\n",
            "\n"
          ]
        }
      ]
    },
    {
      "cell_type": "code",
      "source": [
        "# Créer la table de dimension type_payment\n",
        "data_type_payment = [\n",
        "    (1, \"credit_card\"),\n",
        "    (2, \"cash\"),\n",
        "    (3, \"no_charge\"),\n",
        "    (4, \"dispute\"),\n",
        "    (5, \"unknown\"),\n",
        "    (6, \"voided_trip\")\n",
        "]\n",
        "\n",
        "# Colonnes : id_payment (identifiant) et type_payment (libellé)\n",
        "columns = [\"id_payment\", \"type_payment\"]\n",
        "\n",
        "# Créer un DataFrame PySpark pour la table de dimension\n",
        "df_type_payment_dim = spark.createDataFrame(data_type_payment, columns)\n",
        "\n",
        "# Afficher la table de dimension type_payment\n",
        "df_type_payment_dim.show()"
      ],
      "metadata": {
        "colab": {
          "base_uri": "https://localhost:8080/"
        },
        "id": "GUSRlC93arBY",
        "outputId": "4dfc4598-ea05-4568-94fd-bfb64396b54e"
      },
      "execution_count": 160,
      "outputs": [
        {
          "output_type": "stream",
          "name": "stdout",
          "text": [
            "+----------+------------+\n",
            "|id_payment|type_payment|\n",
            "+----------+------------+\n",
            "|         1| credit_card|\n",
            "|         2|        cash|\n",
            "|         3|   no_charge|\n",
            "|         4|     dispute|\n",
            "|         5|     unknown|\n",
            "|         6| voided_trip|\n",
            "+----------+------------+\n",
            "\n"
          ]
        }
      ]
    },
    {
      "cell_type": "markdown",
      "source": [
        "# ***creation table de dimension trip_type***"
      ],
      "metadata": {
        "id": "QBmKKuAWzEFt"
      }
    },
    {
      "cell_type": "code",
      "source": [
        "calculer_valeur_null(df,'trip_type')"
      ],
      "metadata": {
        "colab": {
          "base_uri": "https://localhost:8080/"
        },
        "id": "fDrtlflHzMMr",
        "outputId": "c016ac6e-8e4d-4d96-9a0a-ef5d81467790"
      },
      "execution_count": 161,
      "outputs": [
        {
          "output_type": "stream",
          "name": "stdout",
          "text": [
            "+---------+\n",
            "|trip_type|\n",
            "+---------+\n",
            "|     6295|\n",
            "+---------+\n",
            "\n"
          ]
        }
      ]
    },
    {
      "cell_type": "code",
      "source": [
        "df.select('trip_type').distinct().show()"
      ],
      "metadata": {
        "colab": {
          "base_uri": "https://localhost:8080/"
        },
        "id": "vX9uso1rs6aC",
        "outputId": "5b0779d3-0423-4ff5-c3de-4d25fb0f286c"
      },
      "execution_count": 162,
      "outputs": [
        {
          "output_type": "stream",
          "name": "stdout",
          "text": [
            "+---------+\n",
            "|trip_type|\n",
            "+---------+\n",
            "|      1.0|\n",
            "|      2.0|\n",
            "|     NULL|\n",
            "+---------+\n",
            "\n"
          ]
        }
      ]
    },
    {
      "cell_type": "code",
      "source": [
        "mode_valeu_trip  = df.groupBy('trip_type').count().orderBy('count',ascending=False).first()['trip_type']\n",
        "print(f\"La valeur la plus fréquente de 'trip_type' est : {mode_valeu_trip}\")"
      ],
      "metadata": {
        "colab": {
          "base_uri": "https://localhost:8080/"
        },
        "id": "MSB3BJRLzSMz",
        "outputId": "0f4eb8bc-0e0b-408b-86c0-6938f9b4c846"
      },
      "execution_count": 163,
      "outputs": [
        {
          "output_type": "stream",
          "name": "stdout",
          "text": [
            "La valeur la plus fréquente de 'trip_type' est : 1.0\n"
          ]
        }
      ]
    },
    {
      "cell_type": "code",
      "source": [
        "df = df.fillna({'trip_type': mode_valeu_trip})"
      ],
      "metadata": {
        "id": "dwPGLl8qO86V"
      },
      "execution_count": 164,
      "outputs": []
    },
    {
      "cell_type": "code",
      "source": [
        "#creer la table de dimension type_trip\n",
        "data_type_trip = [\n",
        "    (1, \"Street-hail\"),\n",
        "    (2, \"Dispatch\"),\n",
        "    (3, \"Unknown\")\n",
        "]\n",
        "\n",
        "columns = ['id_trip', 'type_trip']\n",
        "\n",
        "df_type_trip_dim = spark.createDataFrame(data_type_trip, columns)\n",
        "\n",
        "df_type_trip_dim.show()"
      ],
      "metadata": {
        "colab": {
          "base_uri": "https://localhost:8080/"
        },
        "id": "o3wchNNFqQRk",
        "outputId": "678049e7-e3ad-4221-add4-9189d01251e1"
      },
      "execution_count": 165,
      "outputs": [
        {
          "output_type": "stream",
          "name": "stdout",
          "text": [
            "+-------+-----------+\n",
            "|id_trip|  type_trip|\n",
            "+-------+-----------+\n",
            "|      1|Street-hail|\n",
            "|      2|   Dispatch|\n",
            "|      3|    Unknown|\n",
            "+-------+-----------+\n",
            "\n"
          ]
        }
      ]
    },
    {
      "cell_type": "code",
      "source": [
        "table_dim_location = spark.read.csv(\"/content/taxi_zone_lookup.csv\", header=True, inferSchema=True)"
      ],
      "metadata": {
        "id": "L-DgoHImORI7"
      },
      "execution_count": 166,
      "outputs": []
    },
    {
      "cell_type": "code",
      "source": [
        "table_dim_location.show()"
      ],
      "metadata": {
        "colab": {
          "base_uri": "https://localhost:8080/"
        },
        "id": "_lbGVdoDPEXC",
        "outputId": "f2442c81-3b68-405d-d22a-c9a889fa12ee"
      },
      "execution_count": 167,
      "outputs": [
        {
          "output_type": "stream",
          "name": "stdout",
          "text": [
            "+----------+-------------+--------------------+------------+\n",
            "|LocationID|      Borough|                Zone|service_zone|\n",
            "+----------+-------------+--------------------+------------+\n",
            "|         1|          EWR|      Newark Airport|         EWR|\n",
            "|         2|       Queens|         Jamaica Bay|   Boro Zone|\n",
            "|         3|        Bronx|Allerton/Pelham G...|   Boro Zone|\n",
            "|         4|    Manhattan|       Alphabet City| Yellow Zone|\n",
            "|         5|Staten Island|       Arden Heights|   Boro Zone|\n",
            "|         6|Staten Island|Arrochar/Fort Wad...|   Boro Zone|\n",
            "|         7|       Queens|             Astoria|   Boro Zone|\n",
            "|         8|       Queens|        Astoria Park|   Boro Zone|\n",
            "|         9|       Queens|          Auburndale|   Boro Zone|\n",
            "|        10|       Queens|        Baisley Park|   Boro Zone|\n",
            "|        11|     Brooklyn|          Bath Beach|   Boro Zone|\n",
            "|        12|    Manhattan|        Battery Park| Yellow Zone|\n",
            "|        13|    Manhattan|   Battery Park City| Yellow Zone|\n",
            "|        14|     Brooklyn|           Bay Ridge|   Boro Zone|\n",
            "|        15|       Queens|Bay Terrace/Fort ...|   Boro Zone|\n",
            "|        16|       Queens|             Bayside|   Boro Zone|\n",
            "|        17|     Brooklyn|             Bedford|   Boro Zone|\n",
            "|        18|        Bronx|        Bedford Park|   Boro Zone|\n",
            "|        19|       Queens|           Bellerose|   Boro Zone|\n",
            "|        20|        Bronx|             Belmont|   Boro Zone|\n",
            "+----------+-------------+--------------------+------------+\n",
            "only showing top 20 rows\n",
            "\n"
          ]
        }
      ]
    },
    {
      "cell_type": "code",
      "source": [
        "df.show()"
      ],
      "metadata": {
        "colab": {
          "base_uri": "https://localhost:8080/"
        },
        "id": "qh1AEaqaPInA",
        "outputId": "1b251997-9d36-4197-8fe2-a258153876ae"
      },
      "execution_count": 168,
      "outputs": [
        {
          "output_type": "stream",
          "name": "stdout",
          "text": [
            "+--------+--------------------+---------------------+------------------+----------+------------+------------+---------------+-------------+-----------+-----+-------+----------+------------+---------+---------------------+------------+------------+---------+--------------------+--------------+--------------+\n",
            "|VendorID|lpep_pickup_datetime|lpep_dropoff_datetime|store_and_fwd_flag|RatecodeID|PULocationID|DOLocationID|passenger_count|trip_distance|fare_amount|extra|mta_tax|tip_amount|tolls_amount|ehail_fee|improvement_surcharge|total_amount|payment_type|trip_type|congestion_surcharge|       idda_te|id_date_finale|\n",
            "+--------+--------------------+---------------------+------------------+----------+------------+------------+---------------+-------------+-----------+-----+-------+----------+------------+---------+---------------------+------------+------------+---------+--------------------+--------------+--------------+\n",
            "|       2|          2022-01-01|           2022-01-01|                 N|       1.0|          42|          42|            1.0|         0.44|        3.5|  0.5|    0.5|       0.0|         0.0|     NULL|                  0.3|         4.8|         2.0|      1.0|                 0.0|20220101000000|20220101000000|\n",
            "|       1|          2022-01-01|           2022-01-01|                 N|       1.0|         116|          41|            1.0|          2.1|        9.5|  0.5|    0.5|       0.0|         0.0|     NULL|                  0.3|        10.8|         2.0|      1.0|                 0.0|20220101000000|20220101000000|\n",
            "|       1|          2022-01-01|           2022-01-01|                 N|       1.0|          41|         140|            1.0|          3.7|       14.5| 3.25|    0.5|       4.6|         0.0|     NULL|                  0.3|       23.15|         1.0|      1.0|                2.75|20220101000000|20220101000000|\n",
            "|       2|          2022-01-01|           2022-01-01|                 N|       1.0|         181|         181|            1.0|         1.69|        8.0|  0.5|    0.5|       0.0|         0.0|     NULL|                  0.3|         9.3|         2.0|      1.0|                 0.0|20220101000000|20220101000000|\n",
            "|       2|          2022-01-01|           2022-01-01|                 N|       1.0|          33|         170|            1.0|         6.26|       22.0|  0.5|    0.5|      5.21|         0.0|     NULL|                  0.3|       31.26|         1.0|      1.0|                2.75|20220101000000|20220101000000|\n",
            "|       1|          2022-01-01|           2022-01-01|                 N|       1.0|         150|         210|            1.0|          1.3|        7.0|  0.5|    0.5|       0.0|         0.0|     NULL|                  0.3|         8.3|         2.0|      1.0|                 0.0|20220101000000|20220101000000|\n",
            "|       2|          2022-01-01|           2022-01-01|                 N|       1.0|          66|          67|            1.0|         6.47|       22.5|  0.5|    0.5|       0.0|         0.0|     NULL|                  0.3|        23.8|         2.0|      1.0|                 0.0|20220101000000|20220101000000|\n",
            "|       2|          2022-01-01|           2022-01-01|                 N|       1.0|          40|         195|            1.0|         1.15|        6.0|  0.5|    0.5|       0.0|         0.0|     NULL|                  0.3|         7.3|         2.0|      1.0|                 0.0|20220101000000|20220101000000|\n",
            "|       2|          2022-01-01|           2022-01-01|                 N|       1.0|         112|          80|            1.0|          1.3|        6.0|  0.5|    0.5|       0.0|         0.0|     NULL|                  0.3|         7.3|         2.0|      1.0|                 0.0|20220101000000|20220101000000|\n",
            "|       2|          2022-01-01|           2022-01-01|                 N|       1.0|         256|         186|            1.0|         4.75|       17.0|  0.5|    0.5|      4.21|         0.0|     NULL|                  0.3|       25.26|         1.0|      1.0|                2.75|20220101000000|20220101000000|\n",
            "|       2|          2022-01-31|           2022-01-31|                 N|       1.0|          75|           4|            1.0|         6.03|       18.5|  0.5|    0.5|       1.5|         0.0|     NULL|                  0.3|       24.05|         1.0|      1.0|                2.75|20220131000000|20220131000000|\n",
            "|       2|          2022-01-01|           2022-01-01|                 N|       1.0|          41|         116|            1.0|         2.82|       12.5|  0.5|    0.5|       0.0|         0.0|     NULL|                  0.3|        13.8|         2.0|      1.0|                 0.0|20220101000000|20220101000000|\n",
            "|       2|          2022-01-01|           2022-01-01|                 N|       1.0|          75|          74|            1.0|          0.7|        4.5|  0.5|    0.5|      1.45|         0.0|     NULL|                  0.3|        7.25|         1.0|      1.0|                 0.0|20220101000000|20220101000000|\n",
            "|       2|          2022-01-01|           2022-01-01|                 N|       1.0|          74|         260|            1.0|         5.48|       17.5|  0.5|    0.5|       0.0|        6.55|     NULL|                  0.3|       25.35|         2.0|      1.0|                 0.0|20220101000000|20220101000000|\n",
            "|       2|          2022-01-01|           2022-01-01|                 N|       1.0|          74|         231|            1.0|         7.54|       26.5|  0.5|    0.5|      6.11|         0.0|     NULL|                  0.3|       36.66|         1.0|      1.0|                2.75|20220101000000|20220101000000|\n",
            "|       1|          2022-01-01|           2022-01-01|                 N|       1.0|          74|          42|            1.0|          0.9|        4.5|  0.5|    0.5|       0.0|         0.0|     NULL|                  0.3|         5.8|         3.0|      1.0|                 0.0|20220101000000|20220101000000|\n",
            "|       1|          2022-01-01|           2022-01-01|                 N|       1.0|          41|          94|            1.0|          6.2|       21.5|  0.5|    0.5|       0.0|         0.0|     NULL|                  0.3|        22.8|         1.0|      1.0|                 0.0|20220101000000|20220101000000|\n",
            "|       2|          2022-01-01|           2022-01-01|                 N|       5.0|         213|         174|            1.0|         5.57|       20.0|  0.0|    0.0|       0.0|         0.0|     NULL|                  0.3|        20.3|         2.0|      2.0|                 0.0|20220101000000|20220101000000|\n",
            "|       2|          2022-01-01|           2022-01-01|                 N|       1.0|          51|         185|            1.0|         1.87|        7.0|  0.5|    0.5|       0.0|         0.0|     NULL|                  0.3|         8.3|         2.0|      1.0|                 0.0|20220101000000|20220101000000|\n",
            "|       2|          2022-01-01|           2022-01-01|                 N|       5.0|         185|         119|            1.0|          6.6|       25.0|  0.0|    0.0|       0.0|         0.0|     NULL|                  0.3|        25.3|         2.0|      2.0|                 0.0|20220101000000|20220101000000|\n",
            "+--------+--------------------+---------------------+------------------+----------+------------+------------+---------------+-------------+-----------+-----+-------+----------+------------+---------+---------------------+------------+------------+---------+--------------------+--------------+--------------+\n",
            "only showing top 20 rows\n",
            "\n"
          ]
        }
      ]
    },
    {
      "cell_type": "markdown",
      "source": [
        "# ***creation table de dim_ratecode***"
      ],
      "metadata": {
        "id": "_C8inN56YfSH"
      }
    },
    {
      "cell_type": "code",
      "source": [
        "#verfier les valeurs nulls\n",
        "calculer_valeur_null(df,'RatecodeID')"
      ],
      "metadata": {
        "colab": {
          "base_uri": "https://localhost:8080/"
        },
        "id": "PXIZBAfNYe82",
        "outputId": "54a4ff28-a99d-4e08-f881-a246a634c905"
      },
      "execution_count": 169,
      "outputs": [
        {
          "output_type": "stream",
          "name": "stdout",
          "text": [
            "+----------+\n",
            "|RatecodeID|\n",
            "+----------+\n",
            "|      6295|\n",
            "+----------+\n",
            "\n"
          ]
        }
      ]
    },
    {
      "cell_type": "code",
      "source": [
        "df_dim_ratecode = [(1,\"standard_rate\"),\n",
        "                   (2,\"JFK\"),\n",
        "                   (3,\"newark\"),\n",
        "                   (4,\"nassau or wertechster\"),\n",
        "                   (5,\"negotiated fare\"),\n",
        "                   (6,\"group ride\")]\n",
        "\n",
        "colone = ['id_ratecode','ratecode']\n",
        "df_ratecode_dim = spark.createDataFrame(df_dim_ratecode,colone)"
      ],
      "metadata": {
        "id": "pthZaf9qbPL-"
      },
      "execution_count": 170,
      "outputs": []
    },
    {
      "cell_type": "code",
      "source": [
        "df_ratecode_dim.show()"
      ],
      "metadata": {
        "colab": {
          "base_uri": "https://localhost:8080/"
        },
        "id": "Y-t3fKSdcv39",
        "outputId": "9411d802-b55b-4c32-dfd1-679173975dec"
      },
      "execution_count": 171,
      "outputs": [
        {
          "output_type": "stream",
          "name": "stdout",
          "text": [
            "+-----------+--------------------+\n",
            "|id_ratecode|            ratecode|\n",
            "+-----------+--------------------+\n",
            "|          1|       standard_rate|\n",
            "|          2|                 JFK|\n",
            "|          3|              newark|\n",
            "|          4|nassau or wertech...|\n",
            "|          5|     negotiated fare|\n",
            "|          6|          group ride|\n",
            "+-----------+--------------------+\n",
            "\n"
          ]
        }
      ]
    },
    {
      "cell_type": "markdown",
      "source": [
        "# ***creation table de dim vendeur***"
      ],
      "metadata": {
        "id": "-4Q1rfV3c3aG"
      }
    },
    {
      "cell_type": "code",
      "source": [
        "calculer_valeur_null(df,'VendorID')"
      ],
      "metadata": {
        "colab": {
          "base_uri": "https://localhost:8080/"
        },
        "id": "Mf_idRWzc2Oq",
        "outputId": "f5403af7-ec14-47a7-fe4c-61888995de7a"
      },
      "execution_count": 172,
      "outputs": [
        {
          "output_type": "stream",
          "name": "stdout",
          "text": [
            "+--------+\n",
            "|VendorID|\n",
            "+--------+\n",
            "|       0|\n",
            "+--------+\n",
            "\n"
          ]
        }
      ]
    },
    {
      "cell_type": "code",
      "source": [
        "#les veleurs unique dans vendorid\n",
        "df.select('VendorID').distinct().show()\n"
      ],
      "metadata": {
        "colab": {
          "base_uri": "https://localhost:8080/"
        },
        "id": "sodeL6XjdHpo",
        "outputId": "c433716c-bd0d-42f9-b4c2-acdc054771ec"
      },
      "execution_count": 173,
      "outputs": [
        {
          "output_type": "stream",
          "name": "stdout",
          "text": [
            "+--------+\n",
            "|VendorID|\n",
            "+--------+\n",
            "|       1|\n",
            "|       2|\n",
            "+--------+\n",
            "\n"
          ]
        }
      ]
    },
    {
      "cell_type": "code",
      "source": [
        "df_dim_vendeur = [(1,'Creative Mobile Technologies, LLC'),\n",
        "                  (2,'VeriFone Inc')]\n",
        "colone = ['id_vendeur','nom_vendeur']\n",
        "df_vendeur_dim = spark.createDataFrame(df_dim_vendeur,colone)"
      ],
      "metadata": {
        "id": "BJTfhi8Ge5aP"
      },
      "execution_count": 174,
      "outputs": []
    },
    {
      "cell_type": "code",
      "source": [
        "df_vendeur_dim.show()"
      ],
      "metadata": {
        "colab": {
          "base_uri": "https://localhost:8080/"
        },
        "id": "-c3rA4JMfPO_",
        "outputId": "832eab12-2abc-4f61-a194-957cd46ba2fb"
      },
      "execution_count": 175,
      "outputs": [
        {
          "output_type": "stream",
          "name": "stdout",
          "text": [
            "+----------+--------------------+\n",
            "|id_vendeur|         nom_vendeur|\n",
            "+----------+--------------------+\n",
            "|         1|Creative Mobile T...|\n",
            "|         2|        VeriFone Inc|\n",
            "+----------+--------------------+\n",
            "\n"
          ]
        }
      ]
    },
    {
      "cell_type": "code",
      "source": [
        "df.printSchema()"
      ],
      "metadata": {
        "colab": {
          "base_uri": "https://localhost:8080/"
        },
        "id": "YUzflXVsfTpB",
        "outputId": "c6492f53-0980-42ef-b7f7-e3d66498b6d7"
      },
      "execution_count": 176,
      "outputs": [
        {
          "output_type": "stream",
          "name": "stdout",
          "text": [
            "root\n",
            " |-- VendorID: long (nullable = true)\n",
            " |-- lpep_pickup_datetime: date (nullable = true)\n",
            " |-- lpep_dropoff_datetime: date (nullable = true)\n",
            " |-- store_and_fwd_flag: string (nullable = true)\n",
            " |-- RatecodeID: double (nullable = true)\n",
            " |-- PULocationID: long (nullable = true)\n",
            " |-- DOLocationID: long (nullable = true)\n",
            " |-- passenger_count: double (nullable = true)\n",
            " |-- trip_distance: double (nullable = true)\n",
            " |-- fare_amount: double (nullable = true)\n",
            " |-- extra: double (nullable = true)\n",
            " |-- mta_tax: double (nullable = true)\n",
            " |-- tip_amount: double (nullable = true)\n",
            " |-- tolls_amount: double (nullable = true)\n",
            " |-- ehail_fee: integer (nullable = true)\n",
            " |-- improvement_surcharge: double (nullable = true)\n",
            " |-- total_amount: double (nullable = true)\n",
            " |-- payment_type: double (nullable = false)\n",
            " |-- trip_type: double (nullable = false)\n",
            " |-- congestion_surcharge: double (nullable = true)\n",
            " |-- idda_te: string (nullable = true)\n",
            " |-- id_date_finale: string (nullable = true)\n",
            "\n"
          ]
        }
      ]
    },
    {
      "cell_type": "markdown",
      "source": [
        "# ***creation de la table de fait ***"
      ],
      "metadata": {
        "id": "jdHuwEGMv4yk"
      }
    },
    {
      "cell_type": "code",
      "source": [
        "#creation de table de fait\n",
        "colone = ['VendorID','store_and_fwd_flag','trip_type','idda_te','id_date_finale','payment_type','RatecodeID','PULocationID','DOLocationID','passenger_count','trip_distance','fare_amount','extra','mta_tax','tip_amount','tolls_amount','ehail_fee','improvement_surcharge','total_amount','congestion_surcharge']\n",
        "fact_table = df.select(*colone)\n",
        "fact_table.show()"
      ],
      "metadata": {
        "id": "1d16kxgkv3-Z",
        "colab": {
          "base_uri": "https://localhost:8080/"
        },
        "outputId": "490ffbfe-6669-41f9-fd48-2e3b66c278fb"
      },
      "execution_count": 177,
      "outputs": [
        {
          "output_type": "stream",
          "name": "stdout",
          "text": [
            "+--------+------------------+---------+--------------+--------------+------------+----------+------------+------------+---------------+-------------+-----------+-----+-------+----------+------------+---------+---------------------+------------+--------------------+\n",
            "|VendorID|store_and_fwd_flag|trip_type|       idda_te|id_date_finale|payment_type|RatecodeID|PULocationID|DOLocationID|passenger_count|trip_distance|fare_amount|extra|mta_tax|tip_amount|tolls_amount|ehail_fee|improvement_surcharge|total_amount|congestion_surcharge|\n",
            "+--------+------------------+---------+--------------+--------------+------------+----------+------------+------------+---------------+-------------+-----------+-----+-------+----------+------------+---------+---------------------+------------+--------------------+\n",
            "|       2|                 N|      1.0|20220101000000|20220101000000|         2.0|       1.0|          42|          42|            1.0|         0.44|        3.5|  0.5|    0.5|       0.0|         0.0|     NULL|                  0.3|         4.8|                 0.0|\n",
            "|       1|                 N|      1.0|20220101000000|20220101000000|         2.0|       1.0|         116|          41|            1.0|          2.1|        9.5|  0.5|    0.5|       0.0|         0.0|     NULL|                  0.3|        10.8|                 0.0|\n",
            "|       1|                 N|      1.0|20220101000000|20220101000000|         1.0|       1.0|          41|         140|            1.0|          3.7|       14.5| 3.25|    0.5|       4.6|         0.0|     NULL|                  0.3|       23.15|                2.75|\n",
            "|       2|                 N|      1.0|20220101000000|20220101000000|         2.0|       1.0|         181|         181|            1.0|         1.69|        8.0|  0.5|    0.5|       0.0|         0.0|     NULL|                  0.3|         9.3|                 0.0|\n",
            "|       2|                 N|      1.0|20220101000000|20220101000000|         1.0|       1.0|          33|         170|            1.0|         6.26|       22.0|  0.5|    0.5|      5.21|         0.0|     NULL|                  0.3|       31.26|                2.75|\n",
            "|       1|                 N|      1.0|20220101000000|20220101000000|         2.0|       1.0|         150|         210|            1.0|          1.3|        7.0|  0.5|    0.5|       0.0|         0.0|     NULL|                  0.3|         8.3|                 0.0|\n",
            "|       2|                 N|      1.0|20220101000000|20220101000000|         2.0|       1.0|          66|          67|            1.0|         6.47|       22.5|  0.5|    0.5|       0.0|         0.0|     NULL|                  0.3|        23.8|                 0.0|\n",
            "|       2|                 N|      1.0|20220101000000|20220101000000|         2.0|       1.0|          40|         195|            1.0|         1.15|        6.0|  0.5|    0.5|       0.0|         0.0|     NULL|                  0.3|         7.3|                 0.0|\n",
            "|       2|                 N|      1.0|20220101000000|20220101000000|         2.0|       1.0|         112|          80|            1.0|          1.3|        6.0|  0.5|    0.5|       0.0|         0.0|     NULL|                  0.3|         7.3|                 0.0|\n",
            "|       2|                 N|      1.0|20220101000000|20220101000000|         1.0|       1.0|         256|         186|            1.0|         4.75|       17.0|  0.5|    0.5|      4.21|         0.0|     NULL|                  0.3|       25.26|                2.75|\n",
            "|       2|                 N|      1.0|20220131000000|20220131000000|         1.0|       1.0|          75|           4|            1.0|         6.03|       18.5|  0.5|    0.5|       1.5|         0.0|     NULL|                  0.3|       24.05|                2.75|\n",
            "|       2|                 N|      1.0|20220101000000|20220101000000|         2.0|       1.0|          41|         116|            1.0|         2.82|       12.5|  0.5|    0.5|       0.0|         0.0|     NULL|                  0.3|        13.8|                 0.0|\n",
            "|       2|                 N|      1.0|20220101000000|20220101000000|         1.0|       1.0|          75|          74|            1.0|          0.7|        4.5|  0.5|    0.5|      1.45|         0.0|     NULL|                  0.3|        7.25|                 0.0|\n",
            "|       2|                 N|      1.0|20220101000000|20220101000000|         2.0|       1.0|          74|         260|            1.0|         5.48|       17.5|  0.5|    0.5|       0.0|        6.55|     NULL|                  0.3|       25.35|                 0.0|\n",
            "|       2|                 N|      1.0|20220101000000|20220101000000|         1.0|       1.0|          74|         231|            1.0|         7.54|       26.5|  0.5|    0.5|      6.11|         0.0|     NULL|                  0.3|       36.66|                2.75|\n",
            "|       1|                 N|      1.0|20220101000000|20220101000000|         3.0|       1.0|          74|          42|            1.0|          0.9|        4.5|  0.5|    0.5|       0.0|         0.0|     NULL|                  0.3|         5.8|                 0.0|\n",
            "|       1|                 N|      1.0|20220101000000|20220101000000|         1.0|       1.0|          41|          94|            1.0|          6.2|       21.5|  0.5|    0.5|       0.0|         0.0|     NULL|                  0.3|        22.8|                 0.0|\n",
            "|       2|                 N|      2.0|20220101000000|20220101000000|         2.0|       5.0|         213|         174|            1.0|         5.57|       20.0|  0.0|    0.0|       0.0|         0.0|     NULL|                  0.3|        20.3|                 0.0|\n",
            "|       2|                 N|      1.0|20220101000000|20220101000000|         2.0|       1.0|          51|         185|            1.0|         1.87|        7.0|  0.5|    0.5|       0.0|         0.0|     NULL|                  0.3|         8.3|                 0.0|\n",
            "|       2|                 N|      2.0|20220101000000|20220101000000|         2.0|       5.0|         185|         119|            1.0|          6.6|       25.0|  0.0|    0.0|       0.0|         0.0|     NULL|                  0.3|        25.3|                 0.0|\n",
            "+--------+------------------+---------+--------------+--------------+------------+----------+------------+------------+---------------+-------------+-----------+-----+-------+----------+------------+---------+---------------------+------------+--------------------+\n",
            "only showing top 20 rows\n",
            "\n"
          ]
        }
      ]
    },
    {
      "cell_type": "code",
      "source": [
        "#telecharger les table de dim et de fait en csv\n",
        "df_type_payment_dim.write.csv('df_type_payment_dim.csv', header=True)\n",
        "df_type_trip_dim.write.csv('df_type_trip_dim.csv', header=True)\n",
        "table_dim_location.write.csv('table_dim_location.csv', header=True)\n",
        "df_ratecode_dim.write.csv('df_ratecode_dim.csv', header=True)\n",
        "df_vendeur_dim.write.csv('df_vendeur_dim.csv', header=True)\n",
        "fact_table.write.csv('fact_table.csv', header=True)\n",
        "\n"
      ],
      "metadata": {
        "id": "1W9MtgsMtW6O"
      },
      "execution_count": 178,
      "outputs": []
    },
    {
      "cell_type": "code",
      "source": [],
      "metadata": {
        "id": "tniqXeJqiFZR"
      },
      "execution_count": null,
      "outputs": []
    }
  ]
}